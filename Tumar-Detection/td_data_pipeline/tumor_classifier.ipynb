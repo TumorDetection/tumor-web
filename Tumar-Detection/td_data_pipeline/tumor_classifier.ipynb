{
 "cells": [
  {
   "cell_type": "markdown",
   "metadata": {
    "colab_type": "text",
    "id": "FVkMUqMKbiZp"
   },
   "source": [
    "# Mounting the google drive "
   ]
  },
  {
   "cell_type": "code",
   "execution_count": 1,
   "metadata": {
    "colab": {},
    "colab_type": "code",
    "id": "pqqipy-Mh40f"
   },
   "outputs": [],
   "source": [
    "import numpy as np \n",
    "import pandas as pd \n",
    "import matplotlib.pyplot as plt \n",
    "import tensorflow as tf \n",
    "\n",
    "#for importing data from drive\n",
    "#from pydrive.auth import GoogleAuth\n",
    "#from pydrive.drive import GoogleDrive\n",
    "#from google.colab import auth\n",
    "#from oauth2client.client import GoogleCredentials"
   ]
  },
  {
   "cell_type": "code",
   "execution_count": 2,
   "metadata": {
    "pycharm": {
     "name": "#%%\n"
    }
   },
   "outputs": [],
   "source": [
    "#mounting the drive\n",
    "#from google.colab import drive\n",
    "#drive.mount('/content/gdrive')\n",
    "dataset_directory = './dataset'"
   ]
  },
  {
   "cell_type": "code",
   "execution_count": 3,
   "metadata": {
    "pycharm": {
     "name": "#%%\n"
    }
   },
   "outputs": [],
   "source": [
    "# Importing the dataset "
   ]
  },
  {
   "cell_type": "code",
   "execution_count": 4,
   "metadata": {
    "pycharm": {
     "name": "#%%\n"
    }
   },
   "outputs": [],
   "source": [
    "# Importing the dataset "
   ]
  },
  {
   "cell_type": "code",
   "execution_count": 5,
   "metadata": {
    "colab": {
     "base_uri": "https://localhost:8080/",
     "height": 122
    },
    "colab_type": "code",
    "id": "rqbfhqFmaxVT",
    "outputId": "4d7227b8-3a2f-46fc-9d47-16e2c88896ba"
   },
   "outputs": [],
   "source": [
    "# Importing the dataset "
   ]
  },
  {
   "cell_type": "markdown",
   "metadata": {
    "colab_type": "text",
    "id": "Yqv-vc_NqQIf"
   },
   "source": [
    "# Importing the dataset "
   ]
  },
  {
   "cell_type": "code",
   "execution_count": 6,
   "metadata": {
    "colab": {
     "base_uri": "https://localhost:8080/",
     "height": 1000
    },
    "colab_type": "code",
    "id": "Br93k6-ugUcs",
    "outputId": "06381a3d-1fb3-4aca-d687-c4d9e7b6179f"
   },
   "outputs": [
    {
     "name": "stdout",
     "output_type": "stream",
     "text": [
      "processing image: ./dataset/no / 30 no.jpg\n",
      "processing image: ./dataset/no / 22 no.jpg\n",
      "processing image: ./dataset/no / 41 no.jpg\n",
      "processing image: ./dataset/no / 14 no.jpg\n",
      "processing image: ./dataset/no / no 10.jpg\n",
      "processing image: ./dataset/no / 18 no.jpg\n",
      "processing image: ./dataset/no / no 9.png\n",
      "processing image: ./dataset/no / no 7.jpeg\n",
      "processing image: ./dataset/no / no 8.jpg\n",
      "processing image: ./dataset/no / no.jpg\n",
      "processing image: ./dataset/no / 3 no.jpg\n",
      "processing image: ./dataset/no / 43 no.jpg\n",
      "processing image: ./dataset/no / 20 no.jpg\n",
      "processing image: ./dataset/no / 32 no.jpg\n",
      "processing image: ./dataset/no / 2 no.jpeg\n",
      "processing image: ./dataset/no / N15.jpg\n",
      "processing image: ./dataset/no / no 99.jpg\n",
      "processing image: ./dataset/no / no 98.jpg\n",
      "processing image: ./dataset/no / No11.jpg\n",
      "processing image: ./dataset/no / 7 no.jpg\n",
      "processing image: ./dataset/no / 12 no.jpg\n",
      "processing image: ./dataset/no / No13.jpg\n",
      "processing image: ./dataset/no / 44no.jpg\n",
      "processing image: ./dataset/no / N16.jpg\n",
      "processing image: ./dataset/no / N17.jpg\n",
      "processing image: ./dataset/no / 28 no.jpg\n",
      "processing image: ./dataset/no / 36 no.jpg\n",
      "processing image: ./dataset/no / No12.jpg\n",
      "processing image: ./dataset/no / 47 no.jpg\n",
      "processing image: ./dataset/no / 24 no.jpg\n",
      "processing image: ./dataset/no / No16.jpg\n",
      "processing image: ./dataset/no / 10 no.jpg\n",
      "processing image: ./dataset/no / 26 no.jpg\n",
      "processing image: ./dataset/no / 45 no.jpg\n",
      "processing image: ./dataset/no / no 923.jpg\n",
      "processing image: ./dataset/no / 38 no.jpg\n",
      "processing image: ./dataset/no / No17.jpg\n",
      "processing image: ./dataset/no / 49 no.jpg\n",
      "processing image: ./dataset/no / 34 no.jpg\n",
      "processing image: ./dataset/no / 1 no.jpeg\n",
      "processing image: ./dataset/no / no 100.jpg\n",
      "processing image: ./dataset/no / No15.jpg\n",
      "processing image: ./dataset/no / 5 no.jpg\n",
      "processing image: ./dataset/no / N11.jpg\n",
      "processing image: ./dataset/no / no 89.jpg\n",
      "processing image: ./dataset/no / No14.jpg\n",
      "processing image: ./dataset/no / 9 no.jpg\n",
      "processing image: ./dataset/no / No19.jpg\n",
      "processing image: ./dataset/no / no 90.jpg\n",
      "processing image: ./dataset/no / N20.JPG\n",
      "processing image: ./dataset/no / N21.jpg\n",
      "processing image: ./dataset/no / No18.jpg\n",
      "processing image: ./dataset/no / 15 no.jpg\n",
      "processing image: ./dataset/no / 19 no.jpg\n",
      "processing image: ./dataset/no / N22.JPG\n",
      "processing image: ./dataset/no / no 92.jpg\n",
      "processing image: ./dataset/no / 31 no.jpg\n",
      "processing image: ./dataset/no / 40 no.jpg\n",
      "processing image: ./dataset/no / 23 no.jpg\n",
      "processing image: ./dataset/no / 17 no.jpg\n",
      "processing image: ./dataset/no / N26.JPG\n",
      "processing image: ./dataset/no / no 96.jpg\n",
      "processing image: ./dataset/no / no 97.jpg\n",
      "processing image: ./dataset/no / 21 no.jpg\n",
      "processing image: ./dataset/no / 42 no.jpg\n",
      "processing image: ./dataset/no / No22.jpg\n",
      "processing image: ./dataset/no / 33 no.jpg\n",
      "processing image: ./dataset/no / 50 no.jpg\n",
      "processing image: ./dataset/no / No20.jpg\n",
      "processing image: ./dataset/no / no 95.jpg\n",
      "processing image: ./dataset/no / N19.JPG\n",
      "processing image: ./dataset/no / no 94.jpg\n",
      "processing image: ./dataset/no / No21.jpg\n",
      "processing image: ./dataset/no / 37 no.jpg\n",
      "processing image: ./dataset/no / N6.jpg\n",
      "processing image: ./dataset/no / 29 no.jpg\n",
      "processing image: ./dataset/no / 25 no.jpg\n",
      "processing image: ./dataset/no / no 91.jpeg\n",
      "processing image: ./dataset/no / no 3.jpg\n",
      "processing image: ./dataset/no / 46 no.jpg\n",
      "processing image: ./dataset/no / no 2.jpg\n",
      "processing image: ./dataset/no / 13 no.jpg\n",
      "processing image: ./dataset/no / N5.jpg\n",
      "processing image: ./dataset/no / 6 no.jpg\n",
      "processing image: ./dataset/no / no 1.jpg\n",
      "processing image: ./dataset/no / no 5.jpeg\n",
      "processing image: ./dataset/no / 4 no.jpg\n",
      "processing image: ./dataset/no / 8 no.jpg\n",
      "processing image: ./dataset/no / no 4.jpg\n",
      "processing image: ./dataset/no / N1.JPG\n",
      "processing image: ./dataset/no / 39 no.jpg\n",
      "processing image: ./dataset/no / N3.jpg\n",
      "processing image: ./dataset/no / 27 no.jpg\n",
      "processing image: ./dataset/no / 35 no.jpg\n",
      "processing image: ./dataset/no / no 6.jpg\n",
      "processing image: ./dataset/no / 48 no.jpeg\n",
      "processing image: ./dataset/no / 11 no.jpg\n",
      "processing image: ./dataset/no / N2.JPG\n",
      "processing image: ./dataset/yes / Y157.JPG\n",
      "processing image: ./dataset/yes / Y6.jpg\n",
      "processing image: ./dataset/yes / Y194.jpg\n",
      "processing image: ./dataset/yes / Y180.jpg\n",
      "processing image: ./dataset/yes / Y90.jpg\n",
      "processing image: ./dataset/yes / Y47.JPG\n",
      "processing image: ./dataset/yes / Y53.jpg\n",
      "processing image: ./dataset/yes / Y52.jpg\n",
      "processing image: ./dataset/yes / Y46.jpg\n",
      "processing image: ./dataset/yes / Y91.jpg\n",
      "processing image: ./dataset/yes / Y85.JPG\n",
      "processing image: ./dataset/yes / Y181.jpg\n",
      "processing image: ./dataset/yes / Y195.JPG\n",
      "processing image: ./dataset/yes / Y7.jpg\n",
      "processing image: ./dataset/yes / Y156.JPG\n",
      "processing image: ./dataset/yes / Y168.jpg\n",
      "processing image: ./dataset/yes / Y154.jpg\n",
      "processing image: ./dataset/yes / Y183.jpg\n",
      "processing image: ./dataset/yes / Y78.jpg\n",
      "processing image: ./dataset/yes / Y50.JPG\n",
      "processing image: ./dataset/yes / Y44.JPG\n",
      "processing image: ./dataset/yes / Y45.JPG\n",
      "processing image: ./dataset/yes / Y51.jpg\n",
      "processing image: ./dataset/yes / Y79.jpg\n",
      "processing image: ./dataset/yes / Y86.JPG\n",
      "processing image: ./dataset/yes / Y92.jpg\n",
      "processing image: ./dataset/yes / Y92.png\n",
      "processing image: ./dataset/yes / Y182.JPG\n",
      "processing image: ./dataset/yes / Y155.JPG\n",
      "processing image: ./dataset/yes / Y4.jpg\n",
      "processing image: ./dataset/yes / Y169.jpg\n",
      "processing image: ./dataset/yes / Y186.jpg\n",
      "processing image: ./dataset/yes / Y192.JPG\n",
      "processing image: ./dataset/yes / Y96.jpg\n",
      "processing image: ./dataset/yes / Y82.jpg\n",
      "processing image: ./dataset/yes / Y55.jpg\n",
      "processing image: ./dataset/yes / Y41.jpg\n",
      "processing image: ./dataset/yes / Y69.jpg\n",
      "processing image: ./dataset/yes / Y40.JPG\n",
      "processing image: ./dataset/yes / Y54.jpg\n",
      "processing image: ./dataset/yes / Y97.JPG\n",
      "processing image: ./dataset/yes / Y193.JPG\n",
      "processing image: ./dataset/yes / Y187.jpg\n",
      "processing image: ./dataset/yes / Y1.jpg\n",
      "processing image: ./dataset/yes / Y3.jpg\n",
      "processing image: ./dataset/yes / Y146.JPG\n",
      "processing image: ./dataset/yes / Y185.jpg\n",
      "processing image: ./dataset/yes / Y81.jpg\n",
      "processing image: ./dataset/yes / Y95.jpg\n",
      "processing image: ./dataset/yes / Y42.jpg\n",
      "processing image: ./dataset/yes / Y56.jpg\n",
      "processing image: ./dataset/yes / Y184.JPG\n",
      "processing image: ./dataset/yes / Y2.jpg\n",
      "processing image: ./dataset/yes / Y147.JPG\n",
      "processing image: ./dataset/yes / Y153.jpg\n",
      "processing image: ./dataset/yes / Y108.jpg\n",
      "processing image: ./dataset/yes / Y120.JPG\n",
      "processing image: ./dataset/yes / Y242.JPG\n",
      "processing image: ./dataset/yes / Y256.JPG\n",
      "processing image: ./dataset/yes / Y18.JPG\n",
      "processing image: ./dataset/yes / Y24.jpg\n",
      "processing image: ./dataset/yes / Y30.jpg\n",
      "processing image: ./dataset/yes / Y31.jpg\n",
      "processing image: ./dataset/yes / Y25.jpg\n",
      "processing image: ./dataset/yes / Y19.JPG\n",
      "processing image: ./dataset/yes / Y257.jpg\n",
      "processing image: ./dataset/yes / Y243.JPG\n",
      "processing image: ./dataset/yes / Y109.JPG\n",
      "processing image: ./dataset/yes / Y255.JPG\n",
      "processing image: ./dataset/yes / Y33.jpg\n",
      "processing image: ./dataset/yes / Y27.jpg\n",
      "processing image: ./dataset/yes / Y26.jpg\n",
      "processing image: ./dataset/yes / Y32.jpg\n",
      "processing image: ./dataset/yes / Y254.jpg\n",
      "processing image: ./dataset/yes / Y250.jpg\n",
      "processing image: ./dataset/yes / Y244.JPG\n",
      "processing image: ./dataset/yes / Y36.JPG\n",
      "processing image: ./dataset/yes / Y22.jpg\n",
      "processing image: ./dataset/yes / Y23.JPG\n",
      "processing image: ./dataset/yes / Y37.jpg\n",
      "processing image: ./dataset/yes / Y245.jpg\n",
      "processing image: ./dataset/yes / Y251.JPG\n",
      "processing image: ./dataset/yes / Y247.JPG\n",
      "processing image: ./dataset/yes / Y253.JPG\n",
      "processing image: ./dataset/yes / Y21.jpg\n",
      "processing image: ./dataset/yes / Y35.jpg\n",
      "processing image: ./dataset/yes / Y34.jpg\n",
      "processing image: ./dataset/yes / Y20.jpg\n",
      "processing image: ./dataset/yes / Y252.jpg\n",
      "processing image: ./dataset/yes / Y246.JPG\n",
      "processing image: ./dataset/yes / Y115.JPG\n",
      "processing image: ./dataset/yes / Y101.jpg\n",
      "processing image: ./dataset/yes / Y39.jpg\n",
      "processing image: ./dataset/yes / Y11.jpg\n",
      "processing image: ./dataset/yes / Y10.jpg\n",
      "processing image: ./dataset/yes / Y38.jpg\n",
      "processing image: ./dataset/yes / Y100.JPG\n",
      "processing image: ./dataset/yes / Y114.JPG\n",
      "processing image: ./dataset/yes / Y102.jpg\n",
      "processing image: ./dataset/yes / Y116.JPG\n",
      "processing image: ./dataset/yes / Y248.JPG\n",
      "processing image: ./dataset/yes / Y12.jpg\n",
      "processing image: ./dataset/yes / Y13.jpg\n",
      "processing image: ./dataset/yes / Y249.JPG\n",
      "processing image: ./dataset/yes / Y117.JPG\n",
      "processing image: ./dataset/yes / Y103.jpg\n",
      "processing image: ./dataset/yes / Y107.jpg\n",
      "processing image: ./dataset/yes / Y113.JPG\n",
      "processing image: ./dataset/yes / Y259.JPG\n",
      "processing image: ./dataset/yes / Y17.jpg\n",
      "processing image: ./dataset/yes / Y16.JPG\n",
      "processing image: ./dataset/yes / Y258.JPG\n",
      "processing image: ./dataset/yes / Y112.JPG\n",
      "processing image: ./dataset/yes / Y106.jpg\n",
      "processing image: ./dataset/yes / Y104.jpg\n",
      "processing image: ./dataset/yes / Y14.jpg\n",
      "processing image: ./dataset/yes / Y28.jpg\n",
      "processing image: ./dataset/yes / Y29.jpg\n",
      "processing image: ./dataset/yes / Y15.jpg\n",
      "processing image: ./dataset/yes / Y105.jpg\n",
      "processing image: ./dataset/yes / Y111.JPG\n",
      "processing image: ./dataset/yes / Y162.jpg\n",
      "processing image: ./dataset/yes / Y99.JPG\n",
      "processing image: ./dataset/yes / Y66.JPG\n",
      "processing image: ./dataset/yes / Y73.jpg\n",
      "processing image: ./dataset/yes / Y67.JPG\n",
      "processing image: ./dataset/yes / Y98.JPG\n",
      "processing image: ./dataset/yes / Y188.jpg\n",
      "processing image: ./dataset/yes / Y163.JPG\n",
      "processing image: ./dataset/yes / Y161.JPG\n",
      "processing image: ./dataset/yes / Y59.JPG\n",
      "processing image: ./dataset/yes / Y71.JPG\n",
      "processing image: ./dataset/yes / Y65.JPG\n"
     ]
    },
    {
     "name": "stdout",
     "output_type": "stream",
     "text": [
      "processing image: ./dataset/yes / Y70.jpg\n",
      "processing image: ./dataset/yes / Y58.JPG\n",
      "processing image: ./dataset/yes / Y160.JPG\n",
      "processing image: ./dataset/yes / Y148.JPG\n",
      "processing image: ./dataset/yes / Y164.JPG\n",
      "processing image: ./dataset/yes / Y170.JPG\n",
      "processing image: ./dataset/yes / Y158.JPG\n",
      "processing image: ./dataset/yes / Y9.jpg\n",
      "processing image: ./dataset/yes / Y74.jpg\n",
      "processing image: ./dataset/yes / Y60.jpg\n",
      "processing image: ./dataset/yes / Y49.JPG\n",
      "processing image: ./dataset/yes / Y61.jpg\n",
      "processing image: ./dataset/yes / Y75.JPG\n",
      "processing image: ./dataset/yes / Y8.jpg\n",
      "processing image: ./dataset/yes / Y159.JPG\n",
      "processing image: ./dataset/yes / Y165.JPG\n",
      "processing image: ./dataset/yes / Y167.JPG\n",
      "processing image: ./dataset/yes / Y77.jpg\n",
      "processing image: ./dataset/yes / Y76.jpg\n",
      "processing image: ./dataset/yes / Y62.jpg\n",
      "processing image: ./dataset/yes / Y89.JPG\n",
      "processing image: ./dataset/yes / Y166.JPG\n",
      "data is loaded\n"
     ]
    }
   ],
   "source": [
    "import os\n",
    "from pathlib import Path\n",
    "from keras.preprocessing import image\n",
    "\n",
    "#getting the directory names and filenames from the CV set\n",
    "image_data= []\n",
    "labels={\"no\":0,\"yes\":1}\n",
    "\n",
    "\n",
    "for dirname,_,filenames in os.walk(dataset_directory):\n",
    "  type_of_image = (str(dirname).split('/')[-1])\n",
    "  for filename in filenames:\n",
    "    # print(os.path.join(dirname,filename))\n",
    "    img = image.load_img(os.path.join(dirname,filename),target_size=(256,256))\n",
    "    image_array = image.img_to_array(img)/255\n",
    "    image_data.append((image_array,type_of_image))\n",
    "    # directory of loaded image \n",
    "    print(\"processing image: \" + str(dirname)+\" / \"+str(filename))\n",
    "\n",
    "print(\"data is loaded\")"
   ]
  },
  {
   "cell_type": "code",
   "execution_count": 7,
   "metadata": {
    "colab": {
     "base_uri": "https://localhost:8080/",
     "height": 34
    },
    "colab_type": "code",
    "id": "HtPJR7ZyhUf7",
    "outputId": "b11826fe-4909-444b-c800-1390584ee0e0"
   },
   "outputs": [
    {
     "name": "stdout",
     "output_type": "stream",
     "text": [
      "number of trainning images = 253\n"
     ]
    }
   ],
   "source": [
    "print(\"number of trainning images =\",end=\" \")\n",
    "print(len(image_data))"
   ]
  },
  {
   "cell_type": "markdown",
   "metadata": {
    "colab_type": "text",
    "id": "vxfYdSQwqyJy"
   },
   "source": [
    "# Data Preprocessing "
   ]
  },
  {
   "cell_type": "code",
   "execution_count": 8,
   "metadata": {
    "colab": {},
    "colab_type": "code",
    "id": "YcC2SrcfhskS"
   },
   "outputs": [],
   "source": [
    "import random \n",
    "random.seed(1)\n",
    "# random shuffling of image data \n",
    "random.shuffle(image_data)\n",
    "train = image_data[:int(0.90*len(image_data))]\n",
    "validation = image_data[int(0.90*len(image_data)):]"
   ]
  },
  {
   "cell_type": "code",
   "execution_count": 9,
   "metadata": {
    "colab": {
     "base_uri": "https://localhost:8080/",
     "height": 85
    },
    "colab_type": "code",
    "id": "r4LExvLyhyG0",
    "outputId": "754a7889-ce39-4ca4-e7d6-2b8a6bea06a0"
   },
   "outputs": [
    {
     "name": "stdout",
     "output_type": "stream",
     "text": [
      "227\n",
      "227\n",
      "26\n",
      "26\n"
     ]
    }
   ],
   "source": [
    "# Spliting of x_train and y_train \n",
    "x_train = np.asarray([data[0] for data in train])\n",
    "y_train_decoded = np.asarray([labels[data[1]] for data in train])\n",
    "y_train = tf.keras.utils.to_categorical(y_train_decoded) # encoding to one hot vector \n",
    "# Spliting of x_val and y_val \n",
    "x_val = np.asarray([data[0] for data in validation])\n",
    "y_val_decoded = np.asarray([labels[data[1]] for data in validation])\n",
    "y_val = tf.keras.utils.to_categorical(y_val_decoded)  # encoding to one hot vector \n",
    "print(len(x_train))\n",
    "print(len(y_train))\n",
    "print(len(x_val))\n",
    "print(len(y_val))"
   ]
  },
  {
   "cell_type": "code",
   "execution_count": 10,
   "metadata": {
    "colab": {
     "base_uri": "https://localhost:8080/",
     "height": 299
    },
    "colab_type": "code",
    "id": "Cf1UUf-_iHv8",
    "outputId": "6ea67562-59e3-4ce4-cf3f-579c33a7d5ac"
   },
   "outputs": [
    {
     "name": "stdout",
     "output_type": "stream",
     "text": [
      "Counter({1: 137, 0: 90})\n",
      "Counter({1: 18, 0: 8})\n"
     ]
    },
    {
     "data": {
      "image/png": "[encoded data removed]",
      "text/plain": [
       "<Figure size 432x288 with 1 Axes>"
      ]
     },
     "metadata": {
      "needs_background": "light"
     },
     "output_type": "display_data"
    }
   ],
   "source": [
    "from collections import Counter \n",
    "import matplotlib.pyplot as plt\n",
    "plt.hist(y_train_decoded)\n",
    "plt.plot()\n",
    "print(Counter(y_train_decoded))\n",
    "plt.hist(y_val_decoded)\n",
    "plt.plot()\n",
    "print(Counter(y_val_decoded))"
   ]
  },
  {
   "cell_type": "code",
   "execution_count": 11,
   "metadata": {
    "colab": {
     "base_uri": "https://localhost:8080/",
     "height": 286
    },
    "colab_type": "code",
    "id": "smHj7TrjiPqL",
    "outputId": "27903f35-bb63-46b2-a59a-108a28f7c054"
   },
   "outputs": [
    {
     "name": "stdout",
     "output_type": "stream",
     "text": [
      "yes\n"
     ]
    },
    {
     "data": {
      "image/png": "[encoded data removed]",
      "text/plain": [
       "<Figure size 432x288 with 1 Axes>"
      ]
     },
     "metadata": {
      "needs_background": "light"
     },
     "output_type": "display_data"
    }
   ],
   "source": [
    "# printing a trainning image \n",
    "plt.imshow(image_data[8][0])\n",
    "print(image_data[8][1])"
   ]
  },
  {
   "cell_type": "code",
   "execution_count": 12,
   "metadata": {
    "colab": {
     "base_uri": "https://localhost:8080/",
     "height": 629
    },
    "colab_type": "code",
    "id": "Ar61qALsiYmo",
    "outputId": "9b82ee7c-c609-40a7-d9cc-168444b2a0b7"
   },
   "outputs": [
    {
     "name": "stdout",
     "output_type": "stream",
     "text": [
      "Model: \"sequential\"\n",
      "_________________________________________________________________\n",
      "Layer (type)                 Output Shape              Param #   \n",
      "=================================================================\n",
      "conv2d (Conv2D)              (None, 254, 254, 32)      896       \n",
      "_________________________________________________________________\n",
      "max_pooling2d (MaxPooling2D) (None, 127, 127, 32)      0         \n",
      "_________________________________________________________________\n",
      "conv2d_1 (Conv2D)            (None, 125, 125, 64)      18496     \n",
      "_________________________________________________________________\n",
      "max_pooling2d_1 (MaxPooling2 (None, 62, 62, 64)        0         \n",
      "_________________________________________________________________\n",
      "conv2d_2 (Conv2D)            (None, 60, 60, 128)       73856     \n",
      "_________________________________________________________________\n",
      "dropout (Dropout)            (None, 60, 60, 128)       0         \n",
      "_________________________________________________________________\n",
      "flatten (Flatten)            (None, 460800)            0         \n",
      "_________________________________________________________________\n",
      "dense (Dense)                (None, 256)               117965056 \n",
      "_________________________________________________________________\n",
      "dropout_1 (Dropout)          (None, 256)               0         \n",
      "_________________________________________________________________\n",
      "dense_1 (Dense)              (None, 128)               32896     \n",
      "_________________________________________________________________\n",
      "dropout_2 (Dropout)          (None, 128)               0         \n",
      "_________________________________________________________________\n",
      "dense_2 (Dense)              (None, 64)                8256      \n",
      "_________________________________________________________________\n",
      "dense_3 (Dense)              (None, 32)                2080      \n",
      "_________________________________________________________________\n",
      "dense_4 (Dense)              (None, 2)                 66        \n",
      "=================================================================\n",
      "Total params: 118,101,602\n",
      "Trainable params: 118,101,602\n",
      "Non-trainable params: 0\n",
      "_________________________________________________________________\n"
     ]
    }
   ],
   "source": [
    "\n",
    "from tensorflow.keras import layers, models\n",
    "\n",
    "model = models.Sequential()\n",
    "model.add(layers.Conv2D(32, (3, 3), activation='relu', input_shape=(256,256, 3)))\n",
    "model.add(layers.MaxPooling2D((2, 2)))\n",
    "model.add(layers.Conv2D(64, (3, 3), activation='relu'))\n",
    "model.add(layers.MaxPooling2D((2, 2)))\n",
    "model.add(layers.Conv2D(128, (3, 3), activation='relu'))\n",
    "model.add(tf.keras.layers.Dropout(0.25))\n",
    "model.add(layers.Flatten())\n",
    "model.add(layers.Dense(256, activation='relu'))\n",
    "model.add(tf.keras.layers.Dropout(0.25))\n",
    "model.add(layers.Dense(128, activation='relu'))\n",
    "model.add(tf.keras.layers.Dropout(0.25))\n",
    "model.add(layers.Dense(64, activation='relu'))\n",
    "model.add(layers.Dense(32, activation='relu'))\n",
    "model.add(layers.Dense(2,  activation='softmax'))\n",
    "\n",
    "model.summary()"
   ]
  },
  {
   "cell_type": "code",
   "execution_count": 13,
   "metadata": {
    "colab": {},
    "colab_type": "code",
    "id": "RrEZlMhIid0x"
   },
   "outputs": [],
   "source": [
    "from tensorflow.keras.preprocessing.image  import ImageDataGenerator \n",
    "datagen = ImageDataGenerator(\n",
    "        featurewise_center=False,  # set input mean to 0 over the dataset\n",
    "        samplewise_center=False,  # set each sample mean to 0\n",
    "        featurewise_std_normalization=False,  # divide inputs by std of the dataset\n",
    "        samplewise_std_normalization=False,  # divide each input by its std\n",
    "        zca_whitening=False,  # apply ZCA whitening\n",
    "        rotation_range=10,  # randomly rotate images in the range (degrees, 0 to 180)\n",
    "        zoom_range = 0.1, # Randomly zoom image \n",
    "        width_shift_range=0.1,  # randomly shift images horizontally (fraction of total width)\n",
    "        height_shift_range=0.1,  # randomly shift images vertically (fraction of total height)\n",
    "        horizontal_flip= True,  # randomly flip images\n",
    "        vertical_flip= True )  # randomly flip images\n",
    "\n",
    "\n",
    "datagen.fit(x_train)"
   ]
  },
  {
   "cell_type": "code",
   "execution_count": 14,
   "metadata": {
    "colab": {},
    "colab_type": "code",
    "id": "yFNR4MlMiob9"
   },
   "outputs": [],
   "source": [
    "model.compile(optimizer = 'adam' , loss = \"categorical_crossentropy\", metrics=[\"accuracy\"])\n"
   ]
  },
  {
   "cell_type": "code",
   "execution_count": null,
   "metadata": {
    "colab": {
     "base_uri": "https://localhost:8080/",
     "height": 1000
    },
    "colab_type": "code",
    "id": "HYPoknR4lylZ",
    "outputId": "2284d6f7-cb39-446c-c5c2-2f5dba4cfea3"
   },
   "outputs": [
    {
     "name": "stdout",
     "output_type": "stream",
     "text": [
      "Epoch 1/10\n",
      "1/3 [=========>....................] - ETA: 0s - loss: 0.6900 - accuracy: 0.5273"
     ]
    }
   ],
   "source": [
    "history = model.fit(datagen.flow(x_train,y_train, batch_size=86),\n",
    "                              epochs = 10, validation_data = (x_val,y_val))\n"
   ]
  },
  {
   "cell_type": "code",
   "execution_count": null,
   "metadata": {
    "colab": {
     "base_uri": "https://localhost:8080/",
     "height": 296
    },
    "colab_type": "code",
    "id": "SDzVvfo1nA5K",
    "outputId": "91138fd9-3bd1-424d-fc49-90cdb02ab138"
   },
   "outputs": [],
   "source": [
    "plt.plot(history.history['accuracy'], label='accuracy')\n",
    "plt.plot(history.history['val_accuracy'], label = 'val_accuracy')\n",
    "plt.xlabel('Epoch')\n",
    "plt.ylabel('Accuracy')\n",
    "plt.legend(loc='lower right')\n",
    "\n",
    "test_loss, test_acc = model.evaluate(x_val,  y_val, verbose=2)\n",
    "\n"
   ]
  },
  {
   "cell_type": "code",
   "execution_count": null,
   "metadata": {
    "colab": {
     "base_uri": "https://localhost:8080/",
     "height": 311
    },
    "colab_type": "code",
    "id": "tRdmAbyjnIau",
    "outputId": "2217c5d9-3971-4c01-ff02-537054fea0ff"
   },
   "outputs": [],
   "source": [
    "import itertools\n",
    "from sklearn.metrics import confusion_matrix\n",
    "def plot_confusion_matrix(cm, classes,\n",
    "                          normalize=False,\n",
    "                          title='Confusion matrix',\n",
    "                          cmap=plt.cm.Blues):\n",
    "    \"\"\"\n",
    "    This function prints and plots the confusion matrix.\n",
    "    Normalization can be applied by setting `normalize=True`.\n",
    "    \"\"\"\n",
    "    plt.imshow(cm, interpolation='nearest', cmap=cmap)\n",
    "    plt.title(title)\n",
    "    plt.colorbar()\n",
    "    tick_marks = np.arange(len(classes))\n",
    "    plt.xticks(tick_marks, classes, rotation=45)\n",
    "    plt.yticks(tick_marks, classes)\n",
    "\n",
    "    if normalize:\n",
    "        cm = cm.astype('float') / cm.sum(axis=1)[:, np.newaxis]\n",
    "\n",
    "    thresh = cm.max() / 2.\n",
    "    for i, j in itertools.product(range(cm.shape[0]), range(cm.shape[1])):\n",
    "        plt.text(j, i, cm[i, j],\n",
    "                 horizontalalignment=\"center\",\n",
    "                 color=\"white\" if cm[i, j] > thresh else \"black\")\n",
    "\n",
    "    plt.tight_layout()\n",
    "    plt.ylabel('True label')\n",
    "    plt.xlabel('Predicted label')\n",
    "# Predict the values from the validation dataset\n",
    "Y_pred = model.predict(x_val)\n",
    "# Convert predictions classes to one hot vectors \n",
    "Y_pred_classes = np.argmax(Y_pred,axis = 1) \n",
    "# Convert validation observations to one hot vectors\n",
    "Y_true = np.argmax(y_val,axis = 1) \n",
    "# compute the confusion matrix\n",
    "confusion_mtx = confusion_matrix(Y_true, Y_pred_classes) \n",
    "# plot the confusion matrix\n",
    "plot_confusion_matrix(confusion_mtx, classes = range(2)) \n",
    "\n"
   ]
  },
  {
   "cell_type": "code",
   "execution_count": null,
   "metadata": {
    "colab": {
     "base_uri": "https://localhost:8080/",
     "height": 34
    },
    "colab_type": "code",
    "id": "Fmo5mSkQnPtI",
    "outputId": "119781b7-98e7-43fe-d125-6ab22f9aa0b6"
   },
   "outputs": [],
   "source": [
    "test_loss, test_acc = model.evaluate(x_val,  y_val, verbose=1)"
   ]
  },
  {
   "cell_type": "code",
   "execution_count": null,
   "metadata": {
    "colab": {
     "base_uri": "https://localhost:8080/",
     "height": 173
    },
    "colab_type": "code",
    "id": "4dGBfMRHxlpW",
    "outputId": "d0353f6c-5308-45be-b5c7-b4332ed81214"
   },
   "outputs": [],
   "source": [
    "model.save(\"./td_web/model2\")\n",
    "print(\"Saved model to disk\") "
   ]
  },
  {
   "cell_type": "code",
   "execution_count": null,
   "metadata": {
    "colab": {},
    "colab_type": "code",
    "id": "bxU4Khat1FsX"
   },
   "outputs": [],
   "source": [
    "# from tensorflow import keras\n",
    "# model = keras.models.load_model('/content/model')"
   ]
  },
  {
   "cell_type": "code",
   "execution_count": null,
   "metadata": {
    "colab": {
     "base_uri": "https://localhost:8080/",
     "height": 35
    },
    "colab_type": "code",
    "id": "Xe0YCw9Q4Z9y",
    "outputId": "e65d02bd-d1fe-43e2-b992-5157b2f2ecfe"
   },
   "outputs": [],
   "source": [
    "# import shutil\n",
    "# shutil.make_archive('model', 'zip', 'model')"
   ]
  }
 ],
 "metadata": {
  "colab": {
   "name": "Copy of Tumor Identifier.ipynb",
   "provenance": []
  },
  "kernelspec": {
   "display_name": "Python 3",
   "language": "python",
   "name": "python3"
  },
  "language_info": {
   "codemirror_mode": {
    "name": "ipython",
    "version": 3
   },
   "file_extension": ".py",
   "mimetype": "text/x-python",
   "name": "python",
   "nbconvert_exporter": "python",
   "pygments_lexer": "ipython3",
   "version": "3.7.0"
  }
 },
 "nbformat": 4,
 "nbformat_minor": 1
}